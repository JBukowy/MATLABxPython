{
 "cells": [
  {
   "cell_type": "markdown",
   "metadata": {},
   "source": [
    "# Python Classes: An Introduction to Object-Oriented Programming\n",
    "\n",
    "## 1. What is a Class?\n",
    "\n",
    "In Python, a class is a blueprint for creating objects (a particular data structure). Classes encapsulate data for the object and methods to manipulate that data. \n",
    "\n",
    "### Key Concepts:\n",
    "\n",
    "- **Class**: A blueprint for creating objects. It defines a set of attributes and methods that the created objects will have.\n",
    "- **Object**: An instance of a class. It contains data and behavior defined by the class.\n",
    "- **Attribute**: A variable that belongs to an object or class.\n",
    "- **Method**: A function that belongs to an object or class.\n",
    "\n",
    "Let's start with a simple example of defining a class and creating an object from it.\n"
   ]
  },
  {
   "cell_type": "markdown",
   "metadata": {},
   "source": [
    "## 2. Defining a Basic Class\n",
    "\n",
    "To define a class in Python, you use the `class` keyword followed by the class name and a colon. Inside the class, you can define attributes and methods. By convention, class names start with a capital letter.\n",
    "\n",
    "Here is an example of a basic class definition:\n"
   ]
  },
  {
   "cell_type": "code",
   "execution_count": 1,
   "metadata": {},
   "outputs": [],
   "source": [
    "# Defining a basic class named Person\n",
    "class Person:\n",
    "    pass  # 'pass' is used as a placeholder indicating that no attributes or methods are defined yet\n"
   ]
  },
  {
   "cell_type": "code",
   "execution_count": 2,
   "metadata": {},
   "outputs": [
    {
     "name": "stdout",
     "output_type": "stream",
     "text": [
      "<class '__main__.Person'>\n"
     ]
    }
   ],
   "source": [
    "# Creating an object (instance) of the Person class\n",
    "person1 = Person()\n",
    "\n",
    "# Checking the type of the created object\n",
    "print(type(person1))  # Output: <class '__main__.Person'>"
   ]
  },
  {
   "cell_type": "markdown",
   "metadata": {},
   "source": [
    "## 3. Adding Attributes to a Class\n",
    "\n",
    "Attributes are variables that store data for an object. You can define attributes inside the `__init__` method, which is a special method called a constructor. The `__init__` method is automatically called when you create a new object.\n",
    "\n",
    "Let's add some attributes to our `Person` class:\n"
   ]
  },
  {
   "cell_type": "code",
   "execution_count": 3,
   "metadata": {},
   "outputs": [],
   "source": [
    "# Defining the Person class with attributes\n",
    "class Person:\n",
    "    def __init__(self, name, age):\n",
    "        self.name = name  # Attribute: name\n",
    "        self.age = age    # Attribute: age\n",
    "\n",
    "\n"
   ]
  },
  {
   "cell_type": "code",
   "execution_count": 4,
   "metadata": {},
   "outputs": [
    {
     "name": "stdout",
     "output_type": "stream",
     "text": [
      "Alice\n",
      "30\n",
      "Bob\n",
      "25\n"
     ]
    }
   ],
   "source": [
    "# Creating objects of the Person class with attributes\n",
    "person1 = Person(\"Alice\", 30)\n",
    "person2 = Person(\"Bob\", 25)\n",
    "\n",
    "# Accessing attributes\n",
    "print(person1.name)  # Output: Alice\n",
    "print(person1.age)   # Output: 30\n",
    "print(person2.name)  # Output: Bob\n",
    "print(person2.age)   # Output: 25"
   ]
  },
  {
   "cell_type": "markdown",
   "metadata": {},
   "source": [
    "## 4. Adding Methods to a Class\n",
    "\n",
    "Methods are functions defined inside a class that describe the behaviors of an object. Methods can access and modify the object's attributes.\n",
    "\n",
    "Let's add a method to our `Person` class to introduce the person:\n"
   ]
  },
  {
   "cell_type": "code",
   "execution_count": 5,
   "metadata": {},
   "outputs": [],
   "source": [
    "# Defining the Person class with attributes and a method\n",
    "class Person:\n",
    "    def __init__(self, name, age):\n",
    "        self.name = name\n",
    "        self.age = age\n",
    "    \n",
    "    def introduce(self):\n",
    "        print(f\"Hello, my name is {self.name} and I am {self.age} years old.\")\n"
   ]
  },
  {
   "cell_type": "code",
   "execution_count": 6,
   "metadata": {},
   "outputs": [
    {
     "name": "stdout",
     "output_type": "stream",
     "text": [
      "Hello, my name is Alice and I am 30 years old.\n"
     ]
    }
   ],
   "source": [
    "# Creating an object of the Person class\n",
    "person1 = Person(\"Alice\", 30)\n",
    "\n",
    "# Calling the method\n",
    "person1.introduce()  # Output: Hello, my name is Alice and I am 30 years old."
   ]
  },
  {
   "cell_type": "markdown",
   "metadata": {},
   "source": [
    "## 5. Inheriting from classes\n",
    "\n",
    "It is always a good idea to reduce the amount of repeated code. Inheritance allows us to reuse code and extend a classes functionality.\n",
    "\n",
    "Let's create a new class that enhances our existing classes capabilities:"
   ]
  },
  {
   "cell_type": "code",
   "execution_count": 13,
   "metadata": {},
   "outputs": [],
   "source": [
    "class Student(Person):\n",
    "    def __init__(self, name, age, gpa):\n",
    "        super().__init__(name,age)\n",
    "        self.gpa = gpa\n",
    "    \n",
    "    def introduce(self):\n",
    "        super().introduce()\n",
    "        print(f\"Not to brag, but I am also a student and have a gpa of {self.gpa}\")\n"
   ]
  },
  {
   "cell_type": "code",
   "execution_count": 14,
   "metadata": {},
   "outputs": [
    {
     "name": "stdout",
     "output_type": "stream",
     "text": [
      "Hello, my name is John and I am 18 years old.\n",
      "Not to brag, but I am also a student and have a gpa of 4.0\n"
     ]
    }
   ],
   "source": [
    "John = Student(\"John\", 18, 4.0)\n",
    "John.introduce()"
   ]
  },
  {
   "cell_type": "code",
   "execution_count": null,
   "metadata": {},
   "outputs": [],
   "source": []
  }
 ],
 "metadata": {
  "kernelspec": {
   "display_name": "MxP",
   "language": "python",
   "name": "python3"
  },
  "language_info": {
   "codemirror_mode": {
    "name": "ipython",
    "version": 3
   },
   "file_extension": ".py",
   "mimetype": "text/x-python",
   "name": "python",
   "nbconvert_exporter": "python",
   "pygments_lexer": "ipython3",
   "version": "3.12.4"
  }
 },
 "nbformat": 4,
 "nbformat_minor": 2
}
