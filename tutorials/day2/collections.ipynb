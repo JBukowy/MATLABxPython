{
 "cells": [
  {
   "cell_type": "markdown",
   "metadata": {},
   "source": [
    "# Python Collections: Lists, Tuples, Sets, and Dictionaries\n",
    "\n",
    "Python provides several built-in collection data types to store and manage data efficiently. In this tutorial, we will explore the four basic collection data types:\n",
    "\n",
    "1. **Lists**: Ordered and mutable collections of elements.\n",
    "2. **Tuples**: Ordered and immutable collections of elements.\n",
    "3. **Sets**: Unordered collections of unique elements.\n",
    "4. **Dictionaries**: Unordered collections of key-value pairs.\n",
    "\n",
    "Let's dive into each of these collection types and understand their characteristics and common operations.\n"
   ]
  },
  {
   "cell_type": "markdown",
   "metadata": {
    "vscode": {
     "languageId": "plaintext"
    }
   },
   "source": [
    "## 1. Lists\n",
    "\n",
    "Lists are ordered, mutable collections of elements. They can contain elements of different data types and allow duplicate values.\n",
    "\n",
    "### Creating a List\n",
    "\n",
    "You can create a list using square brackets `[]` and separate elements with commas."
   ]
  },
  {
   "cell_type": "code",
   "execution_count": 1,
   "metadata": {},
   "outputs": [
    {
     "name": "stdout",
     "output_type": "stream",
     "text": [
      "['apple', 'banana', 'cherry', 'apple']\n"
     ]
    }
   ],
   "source": [
    "# Creating a list\n",
    "fruits = [\"apple\", \"banana\", \"cherry\", \"apple\"]\n",
    "print(fruits)  # Output: ['apple', 'banana', 'cherry', 'apple']"
   ]
  },
  {
   "cell_type": "code",
   "execution_count": 2,
   "metadata": {},
   "outputs": [
    {
     "name": "stdout",
     "output_type": "stream",
     "text": [
      "apple\n",
      "cherry\n"
     ]
    }
   ],
   "source": [
    "# Accessing elements by index\n",
    "print(fruits[0])  # Output: apple\n",
    "print(fruits[2])  # Output: cherry\n"
   ]
  },
  {
   "cell_type": "code",
   "execution_count": 3,
   "metadata": {},
   "outputs": [
    {
     "name": "stdout",
     "output_type": "stream",
     "text": [
      "['apple', 'blueberry', 'cherry', 'apple']\n"
     ]
    }
   ],
   "source": [
    "# Modifying elements\n",
    "fruits[1] = \"blueberry\"\n",
    "print(fruits)  # Output: ['apple', 'blueberry', 'cherry', 'apple']\n"
   ]
  },
  {
   "cell_type": "code",
   "execution_count": 4,
   "metadata": {},
   "outputs": [
    {
     "name": "stdout",
     "output_type": "stream",
     "text": [
      "['apple', 'blueberry', 'cherry', 'apple', 'orange']\n",
      "['blueberry', 'cherry', 'apple', 'orange']\n",
      "4\n"
     ]
    }
   ],
   "source": [
    "# Adding elements\n",
    "fruits.append(\"orange\")\n",
    "print(fruits)  # Output: ['apple', 'blueberry', 'cherry', 'apple', 'orange']\n",
    "\n",
    "# Removing elements\n",
    "fruits.remove(\"apple\")\n",
    "print(fruits)  # Output: ['blueberry', 'cherry', 'apple', 'orange']\n",
    "\n",
    "# Length of the list\n",
    "print(len(fruits))  # Output: 4\n"
   ]
  },
  {
   "cell_type": "markdown",
   "metadata": {},
   "source": [
    "## 2. Tuples\n",
    "\n",
    "Tuples are ordered, immutable collections of elements. Like lists, tuples can contain elements of different data types and allow duplicate values. However, once created, the elements of a tuple cannot be modified.\n",
    "\n",
    "### Creating a Tuple\n",
    "\n",
    "You can create a tuple using parentheses `()` and separate elements with commas.\n",
    "\n"
   ]
  },
  {
   "cell_type": "code",
   "execution_count": 5,
   "metadata": {},
   "outputs": [
    {
     "name": "stdout",
     "output_type": "stream",
     "text": [
      "('red', 'green', 'blue', 'red')\n"
     ]
    }
   ],
   "source": [
    "# Creating a tuple\n",
    "colors = (\"red\", \"green\", \"blue\", \"red\")\n",
    "print(colors)  # Output: ('red', 'green', 'blue', 'red')"
   ]
  },
  {
   "cell_type": "code",
   "execution_count": 6,
   "metadata": {},
   "outputs": [
    {
     "name": "stdout",
     "output_type": "stream",
     "text": [
      "green\n",
      "blue\n"
     ]
    }
   ],
   "source": [
    "# Accessing elements by index\n",
    "print(colors[1])  # Output: green\n",
    "print(colors[2])  # Output: blue\n"
   ]
  },
  {
   "cell_type": "code",
   "execution_count": 7,
   "metadata": {},
   "outputs": [
    {
     "name": "stdout",
     "output_type": "stream",
     "text": [
      "4\n",
      "2\n",
      "2\n"
     ]
    }
   ],
   "source": [
    "# Length of the tuple\n",
    "print(len(colors))  # Output: 4\n",
    "\n",
    "# Counting occurrences\n",
    "print(colors.count(\"red\"))  # Output: 2\n",
    "\n",
    "# Finding the index of an element\n",
    "print(colors.index(\"blue\"))  # Output: 2\n"
   ]
  },
  {
   "cell_type": "markdown",
   "metadata": {},
   "source": [
    "## 3. Sets\n",
    "\n",
    "Sets are unordered collections of unique elements. They do not allow duplicate values and do not maintain the order of elements.\n",
    "\n",
    "### Creating a Set\n",
    "\n",
    "You can create a set using curly braces `{}` or the `set()` function."
   ]
  },
  {
   "cell_type": "code",
   "execution_count": 12,
   "metadata": {},
   "outputs": [
    {
     "name": "stdout",
     "output_type": "stream",
     "text": [
      "{1, 2, 3, 4, 5}\n",
      "{'o', 'e', 'h', 'l'}\n"
     ]
    }
   ],
   "source": [
    "# Creating a set\n",
    "numbers = {1, 2, 3, 4, 4, 5}\n",
    "print(numbers)  # Output: {1, 2, 3, 4, 5}\n",
    "\n",
    "# Creating a set using the set() function\n",
    "letters = set(\"hello\")\n",
    "print(letters)  # Output: {'h', 'e', 'l', 'o'}"
   ]
  },
  {
   "cell_type": "code",
   "execution_count": 13,
   "metadata": {},
   "outputs": [
    {
     "name": "stdout",
     "output_type": "stream",
     "text": [
      "{1, 2, 3, 4, 5, 6}\n"
     ]
    }
   ],
   "source": [
    "# Adding elements\n",
    "numbers.add(6)\n",
    "print(numbers)  # Output: {1, 2, 3, 4, 5, 6}"
   ]
  },
  {
   "cell_type": "code",
   "execution_count": 14,
   "metadata": {},
   "outputs": [
    {
     "name": "stdout",
     "output_type": "stream",
     "text": [
      "{1, 2, 4, 5, 6}\n"
     ]
    }
   ],
   "source": [
    "# Removing elements\n",
    "numbers.remove(3)\n",
    "print(numbers)  # Output: {1, 2, 4, 5, 6}"
   ]
  },
  {
   "cell_type": "code",
   "execution_count": 15,
   "metadata": {},
   "outputs": [
    {
     "name": "stdout",
     "output_type": "stream",
     "text": [
      "{1, 2, 3, 4, 5}\n"
     ]
    }
   ],
   "source": [
    "# Union\n",
    "set1 = {1, 2, 3}\n",
    "set2 = {3, 4, 5}\n",
    "print(set1.union(set2))  # Output: {1, 2, 3, 4, 5}"
   ]
  },
  {
   "cell_type": "code",
   "execution_count": 16,
   "metadata": {},
   "outputs": [
    {
     "name": "stdout",
     "output_type": "stream",
     "text": [
      "{3}\n"
     ]
    }
   ],
   "source": [
    "# Intersection\n",
    "print(set1.intersection(set2))  # Output: {3}"
   ]
  },
  {
   "cell_type": "code",
   "execution_count": 17,
   "metadata": {},
   "outputs": [
    {
     "name": "stdout",
     "output_type": "stream",
     "text": [
      "{1, 2}\n"
     ]
    }
   ],
   "source": [
    "# Difference\n",
    "print(set1.difference(set2))  # Output: {1, 2}"
   ]
  },
  {
   "cell_type": "markdown",
   "metadata": {},
   "source": [
    "## 4. Dictionaries\n",
    "\n",
    "Dictionaries are unordered collections of key-value pairs. Each key in a dictionary must be unique, and keys are used to access the corresponding values.\n",
    "\n",
    "### Creating a Dictionary\n",
    "\n",
    "You can create a dictionary using curly braces `{}` with key-value pairs separated by colons."
   ]
  },
  {
   "cell_type": "code",
   "execution_count": 18,
   "metadata": {},
   "outputs": [
    {
     "name": "stdout",
     "output_type": "stream",
     "text": [
      "{'name': 'Alice', 'age': 30, 'city': 'New York'}\n"
     ]
    }
   ],
   "source": [
    "# Creating a dictionary\n",
    "person = {\"name\": \"Alice\", \"age\": 30, \"city\": \"New York\"}\n",
    "print(person)  # Output: {'name': 'Alice', 'age': 30, 'city': 'New York'}"
   ]
  },
  {
   "cell_type": "code",
   "execution_count": 19,
   "metadata": {},
   "outputs": [
    {
     "name": "stdout",
     "output_type": "stream",
     "text": [
      "Alice\n",
      "30\n"
     ]
    }
   ],
   "source": [
    "# Accessing values by key\n",
    "print(person[\"name\"])  # Output: Alice\n",
    "print(person[\"age\"])   # Output: 30\n"
   ]
  },
  {
   "cell_type": "code",
   "execution_count": 20,
   "metadata": {},
   "outputs": [
    {
     "name": "stdout",
     "output_type": "stream",
     "text": [
      "{'name': 'Alice', 'age': 30, 'city': 'New York', 'email': 'alice@example.com'}\n"
     ]
    }
   ],
   "source": [
    "# Adding key-value pairs\n",
    "person[\"email\"] = \"alice@example.com\"\n",
    "print(person)  # Output: {'name': 'Alice', 'age': 31, 'city': 'New York', 'email': 'alice@example.com'}"
   ]
  },
  {
   "cell_type": "code",
   "execution_count": 21,
   "metadata": {},
   "outputs": [
    {
     "name": "stdout",
     "output_type": "stream",
     "text": [
      "{'name': 'Alice', 'age': 30, 'email': 'alice@example.com'}\n"
     ]
    }
   ],
   "source": [
    "# Removing key-value pairs\n",
    "del person[\"city\"]\n",
    "print(person)  # Output: {'name': 'Alice', 'age': 31, 'email': 'alice@example.com'}"
   ]
  },
  {
   "cell_type": "code",
   "execution_count": 22,
   "metadata": {},
   "outputs": [
    {
     "name": "stdout",
     "output_type": "stream",
     "text": [
      "3\n"
     ]
    }
   ],
   "source": [
    "# Length of the dictionary\n",
    "print(len(person))  # Output: 3"
   ]
  },
  {
   "cell_type": "code",
   "execution_count": 23,
   "metadata": {},
   "outputs": [
    {
     "name": "stdout",
     "output_type": "stream",
     "text": [
      "True\n",
      "False\n"
     ]
    }
   ],
   "source": [
    "# Checking for key existence\n",
    "print(\"name\" in person)  # Output: True\n",
    "print(\"city\" in person)  # Output: False"
   ]
  },
  {
   "cell_type": "code",
   "execution_count": null,
   "metadata": {},
   "outputs": [],
   "source": []
  }
 ],
 "metadata": {
  "kernelspec": {
   "display_name": "MxP",
   "language": "python",
   "name": "python3"
  },
  "language_info": {
   "codemirror_mode": {
    "name": "ipython",
    "version": 3
   },
   "file_extension": ".py",
   "mimetype": "text/x-python",
   "name": "python",
   "nbconvert_exporter": "python",
   "pygments_lexer": "ipython3",
   "version": "3.12.4"
  }
 },
 "nbformat": 4,
 "nbformat_minor": 2
}
