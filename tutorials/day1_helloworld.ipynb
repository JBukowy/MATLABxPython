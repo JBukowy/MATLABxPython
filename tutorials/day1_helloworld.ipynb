{
 "cells": [
  {
   "cell_type": "markdown",
   "metadata": {},
   "source": [
    "# Not another hello world\n",
    "\n",
    "Jupyter notebooks act as workplaces that you can mix both markdown syntax and code. This tutorial will introduce you to some syntax for python and basic data types, control statements, and basic loop types. This notebook include only offerings from the standard library (and therefore will not require any import statements).\n",
    "\n",
    "__A note about workspaces and current variables.__\n",
    "\n",
    "Python operates in two modes - interactive and script mode. You can run interactive sessions of python that is very similar to the matlab experience. In this you have analogs to the workspace and when you type code into the terminal, it is executed and the memory of the current session is kept. Kernels (Ipykernels and jupyter notebooks) are somewhat related to this in that it provides a souped-up interactive mode where the current working memory is shared between cells but restarting the kernel has similar implications to clearing your workspace.\n",
    "\n",
    "In this notebook - and future ones - you may find it useful to clear your current memory and restart the kernel. You may also notice numbers to the left of cells that you have executed. These numbers tell you the order in which the commands we sent to the interpreter which has variables in memory implications."
   ]
  },
  {
   "cell_type": "markdown",
   "metadata": {},
   "source": [
    "# Python Basics Tutorial\n",
    "\n",
    "## 1. Basic Data Types\n",
    "\n",
    "Python supports several basic data types. Here are some of the most commonly used ones:\n",
    "\n",
    "- **Integers**: Whole numbers, e.g., `1`, `42`, `-7`\n",
    "- **Floats**: Decimal numbers, e.g., `3.14`, `0.001`, `-2.5`\n",
    "- **Strings**: Text enclosed in single or double quotes, e.g., `'hello'`, `\"world\"`\n",
    "- **Booleans**: Logical values, `True` and `False`\n",
    "\n",
    "Let's look at some examples of these basic data types."
   ]
  },
  {
   "cell_type": "code",
   "execution_count": 1,
   "metadata": {},
   "outputs": [
    {
     "name": "stdout",
     "output_type": "stream",
     "text": [
      "Integer: 42\n",
      "Float: 3.14\n",
      "String: hello\n",
      "Boolean: True\n"
     ]
    }
   ],
   "source": [
    "# Integer\n",
    "a = 42\n",
    "print(\"Integer:\", a)\n",
    "\n",
    "# Float\n",
    "b = 3.14\n",
    "print(\"Float:\", b)\n",
    "\n",
    "# String\n",
    "c = \"hello\"\n",
    "print(\"String:\", c)\n",
    "\n",
    "# Boolean\n",
    "d = True\n",
    "print(\"Boolean:\", d)"
   ]
  },
  {
   "cell_type": "markdown",
   "metadata": {},
   "source": [
    "## 2. Control Statements\n",
    "\n",
    "Control statements allow you to control the flow of execution in your programs. The most commonly used control statements are:\n",
    "\n",
    "- **if**: Executes a block of code if a condition is true.\n",
    "- **elif**: Checks another condition if the previous ones are false.\n",
    "- **else**: Executes a block of code if none of the previous conditions are true.\n",
    "\n",
    "This is one place where python starts to differ greatly from matlab. Python is very sensitive to indents, in fact it is part of the syntax. Pay special attention to the use of the : and how lines included in these statements are indented.\n",
    "\n",
    "Here are some examples of how to use control statements."
   ]
  },
  {
   "cell_type": "code",
   "execution_count": 2,
   "metadata": {},
   "outputs": [
    {
     "name": "stdout",
     "output_type": "stream",
     "text": [
      "x is greater than 5\n",
      "x is not less than 5\n",
      "x is 10\n"
     ]
    }
   ],
   "source": [
    "x = 10\n",
    "\n",
    "# if statement\n",
    "if x > 5:\n",
    "    print(\"x is greater than 5\")\n",
    "\n",
    "# if-else statement\n",
    "if x < 5:\n",
    "    print(\"x is less than 5\")\n",
    "else:\n",
    "    print(\"x is not less than 5\")\n",
    "\n",
    "# if-elif-else statement\n",
    "if x < 5:\n",
    "    print(\"x is less than 5\")\n",
    "elif x == 10:\n",
    "    print(\"x is 10\")\n",
    "else:\n",
    "    print(\"x is greater than 5 but not 10\")"
   ]
  },
  {
   "cell_type": "markdown",
   "metadata": {},
   "source": [
    "## 3. Loops\n",
    "\n",
    "Loops allow you to repeat a block of code multiple times. Python supports two main types of loops:\n",
    "\n",
    "- **for**: Iterates over a sequence (such as a list, tuple, dictionary, set, or string).\n",
    "- **while**: Repeats a block of code as long as a condition is true.\n",
    "\n",
    "### for Loop\n",
    "\n",
    "The `for` loop is used to iterate over a sequence (like a list, tuple, dictionary, set, or string).\n",
    "\n",
    "### while Loop\n",
    "\n",
    "The `while` loop is used to repeat a block of code as long as the condition is true.\n",
    "\n",
    "Let's see some examples."
   ]
  },
  {
   "cell_type": "code",
   "execution_count": 3,
   "metadata": {},
   "outputs": [
    {
     "name": "stdout",
     "output_type": "stream",
     "text": [
      "for loop example:\n",
      "apple\n",
      "banana\n",
      "cherry\n",
      "\n",
      "while loop example:\n",
      "5\n",
      "4\n",
      "3\n",
      "2\n",
      "1\n"
     ]
    }
   ],
   "source": [
    "# for loop\n",
    "print(\"for loop example:\")\n",
    "fruits = [\"apple\", \"banana\", \"cherry\"]\n",
    "for fruit in fruits:\n",
    "    print(fruit)\n",
    "\n",
    "# while loop\n",
    "print(\"\\nwhile loop example:\")\n",
    "count = 5\n",
    "while count > 0:\n",
    "    print(count)\n",
    "    count -= 1"
   ]
  },
  {
   "cell_type": "markdown",
   "metadata": {},
   "source": [
    "__Now hold on just a moment!__\n",
    "- how did we execute a for loop on strings? \n",
    "- Were those multiple strings?! \n",
    "- What is going on here?!\n",
    "\n",
    "In short what we saw was the use of a data structure called a list which implements an iter() method allowing it to be called as an iterator. Now you may ask:\n",
    "\n",
    "- Why does my variable have a method?!\n",
    "\n",
    "All of these are reasonable questions, and they are involve a bit more understanding on how python thinks about variables, data types, data structures, and above all classes and objects. For the end of this lesson though, let's just introduce one more piece of kit - __the function/method__."
   ]
  },
  {
   "cell_type": "markdown",
   "metadata": {},
   "source": [
    "# Introduction to Functions in Python and MATLAB\n",
    "\n",
    "Functions are reusable blocks of code that perform a specific task. They help in organizing code, making it more readable, and reducing redundancy.\n",
    "\n",
    "## MATLAB Functions\n",
    "\n",
    "In MATLAB, functions are defined using the `function` keyword. Here is a simple example of a MATLAB function that adds two numbers:\n",
    "\n",
    "```matlab\n",
    "function result = addNumbers(a, b)\n",
    "    result = a + b;\n",
    "end"
   ]
  },
  {
   "cell_type": "markdown",
   "metadata": {},
   "source": [
    "# Python Methods\n",
    "\n",
    "In Python, functions (often referred to as methods when they belong to classes) are defined using the def keyword. Here is the equivalent Python function to add two numbers:"
   ]
  },
  {
   "cell_type": "code",
   "execution_count": 4,
   "metadata": {},
   "outputs": [],
   "source": [
    "def add_numbers(a, b):\n",
    "    return a + b"
   ]
  },
  {
   "cell_type": "markdown",
   "metadata": {},
   "source": [
    "We have two new keywords in python:\n",
    "1. def - used to denote the start of a method/function. This works in the exact same way that function does. It does not need to be preceeded by the variables that the function returns. It also defined arguments using parentheses following the method name.\n",
    "2. return - this statements terminates the method. Everything on the right hand side of this statement is returned. You may return single variables (object references) or multiple as separated by a comma. If you return multiple varaibles, it will be returned as a tuple with each element a single reference."
   ]
  },
  {
   "cell_type": "markdown",
   "metadata": {},
   "source": [
    "The methods that you write in these cells are then referenced in the current instance of the kernel."
   ]
  },
  {
   "cell_type": "code",
   "execution_count": 5,
   "metadata": {},
   "outputs": [
    {
     "name": "stdout",
     "output_type": "stream",
     "text": [
      "The sum is: 8\n"
     ]
    }
   ],
   "source": [
    "# Calling the function\n",
    "result = add_numbers(3, 5)\n",
    "print(\"The sum is:\", result)"
   ]
  },
  {
   "cell_type": "markdown",
   "metadata": {},
   "source": [
    "## Function with Default Arguments\n",
    "\n",
    "It may be helpful to add an argument that gives you additional flexibility to your code, but that you want to have a default value. You can provide default values for function arguments in Python. This allows the function to be called with fewer arguments than it is defined to accept.\n",
    "\n",
    "Here is an example of a function with default arguments:"
   ]
  },
  {
   "cell_type": "code",
   "execution_count": 9,
   "metadata": {},
   "outputs": [
    {
     "name": "stdout",
     "output_type": "stream",
     "text": [
      "Hi, Alice!\n",
      "Hello, Bob!\n"
     ]
    }
   ],
   "source": [
    "def greet(name, greeting=\"Hello\"):\n",
    "    return f\"{greeting}, {name}!\"\n",
    "\n",
    "# Calling the function with both arguments\n",
    "print(greet(\"Alice\", \"Hi\"))\n",
    "\n",
    "# Calling the function with only the mandatory argument\n",
    "print(greet(\"Bob\"))"
   ]
  },
  {
   "cell_type": "markdown",
   "metadata": {},
   "source": [
    "## Function with Variable Number of Arguments\n",
    "\n",
    "In Python, you can define functions that accept a variable number of arguments using `*args` and `**kwargs`.\n",
    "\n",
    "- `*args` allows you to pass a variable number of positional arguments.\n",
    "- `**kwargs` allows you to pass a variable number of keyword arguments.\n",
    "\n",
    "Here is an example of a function that uses `*args` and `**kwargs`:"
   ]
  },
  {
   "cell_type": "code",
   "execution_count": 10,
   "metadata": {},
   "outputs": [
    {
     "name": "stdout",
     "output_type": "stream",
     "text": [
      "Name: Alice\n",
      "Age: 30\n",
      "Additional Info: ('Engineer', 'Musician')\n",
      "Other Details: {'city': 'New York', 'hobby': 'Photography'}\n"
     ]
    }
   ],
   "source": [
    "def describe_person(name, age, *args, **kwargs):\n",
    "    print(f\"Name: {name}\")\n",
    "    print(f\"Age: {age}\")\n",
    "    if args:\n",
    "        print(\"Additional Info:\", args)\n",
    "    if kwargs:\n",
    "        print(\"Other Details:\", kwargs)\n",
    "\n",
    "# Calling the function with various arguments\n",
    "describe_person(\"Alice\", 30, \"Engineer\", \"Musician\", city=\"New York\", hobby=\"Photography\")"
   ]
  },
  {
   "cell_type": "markdown",
   "metadata": {},
   "source": [
    "# Let's finish this tutorial doing some exercises to practice basic syntax.\n",
    "\n",
    "Check out this [website](https://codingbat.com/python), they have some fun brainteasers that are useful in practicing syntax by giving you some problems to solve.\n",
    "\n",
    "Before starting though there is one more bit of syntax that we should introduce - methods/functions."
   ]
  }
 ],
 "metadata": {
  "kernelspec": {
   "display_name": "MATLABxPython",
   "language": "python",
   "name": "python3"
  },
  "language_info": {
   "codemirror_mode": {
    "name": "ipython",
    "version": 3
   },
   "file_extension": ".py",
   "mimetype": "text/x-python",
   "name": "python",
   "nbconvert_exporter": "python",
   "pygments_lexer": "ipython3",
   "version": "3.12.4"
  }
 },
 "nbformat": 4,
 "nbformat_minor": 2
}
